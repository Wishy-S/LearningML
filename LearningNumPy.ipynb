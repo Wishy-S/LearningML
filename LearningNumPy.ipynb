{
  "nbformat": 4,
  "nbformat_minor": 0,
  "metadata": {
    "colab": {
      "name": "LearningNumPy.ipynb",
      "provenance": [],
      "authorship_tag": "ABX9TyNyVFN/S9A0cBHlkH6wVutJ",
      "include_colab_link": true
    },
    "kernelspec": {
      "name": "python3",
      "display_name": "Python 3"
    },
    "language_info": {
      "name": "python"
    }
  },
  "cells": [
    {
      "cell_type": "markdown",
      "metadata": {
        "id": "view-in-github",
        "colab_type": "text"
      },
      "source": [
        "<a href=\"https://colab.research.google.com/github/Wishy-S/LearningML/blob/master/LearningNumPy.ipynb\" target=\"_parent\"><img src=\"https://colab.research.google.com/assets/colab-badge.svg\" alt=\"Open In Colab\"/></a>"
      ]
    },
    {
      "cell_type": "code",
      "metadata": {
        "id": "vPPyPrvezqNA"
      },
      "source": [
        "import numpy as np\n",
        "a = [1,2,3,4,5]\n",
        "arr = np.array(a)"
      ],
      "execution_count": 2,
      "outputs": []
    },
    {
      "cell_type": "code",
      "metadata": {
        "colab": {
          "base_uri": "https://localhost:8080/"
        },
        "id": "xJRqBxp305cn",
        "outputId": "b5351f5f-195a-4ce1-ec7e-4162617938f6"
      },
      "source": [
        "arr.shape"
      ],
      "execution_count": 7,
      "outputs": [
        {
          "output_type": "execute_result",
          "data": {
            "text/plain": [
              "(5,)"
            ]
          },
          "metadata": {},
          "execution_count": 7
        }
      ]
    },
    {
      "cell_type": "code",
      "metadata": {
        "colab": {
          "base_uri": "https://localhost:8080/"
        },
        "id": "nZI5M6BR1IdT",
        "outputId": "5abc1403-23e1-4741-bcbc-23e3c40cfd61"
      },
      "source": [
        "type(arr),type(a)"
      ],
      "execution_count": 11,
      "outputs": [
        {
          "output_type": "execute_result",
          "data": {
            "text/plain": [
              "(numpy.ndarray, list)"
            ]
          },
          "metadata": {},
          "execution_count": 11
        }
      ]
    },
    {
      "cell_type": "code",
      "metadata": {
        "id": "zHC3-oIb1TWZ"
      },
      "source": [
        "a1 = [1,2,3,4,5]\n",
        "a2 = [2,3,4,5,6]\n",
        "a3 = [9,7,6,8,9]\n",
        "arrr = np.array([a1,a2,a3])"
      ],
      "execution_count": 14,
      "outputs": []
    },
    {
      "cell_type": "code",
      "metadata": {
        "colab": {
          "base_uri": "https://localhost:8080/"
        },
        "id": "s5wcLfzf4oxa",
        "outputId": "628f4989-a5e9-4991-ce31-1be5203e2340"
      },
      "source": [
        "arr = arrr\n",
        "arr.shape"
      ],
      "execution_count": 17,
      "outputs": [
        {
          "output_type": "execute_result",
          "data": {
            "text/plain": [
              "(3, 5)"
            ]
          },
          "metadata": {},
          "execution_count": 17
        }
      ]
    },
    {
      "cell_type": "code",
      "metadata": {
        "colab": {
          "base_uri": "https://localhost:8080/"
        },
        "id": "tfTZ8n3O41ex",
        "outputId": "ea03cce1-34ff-4a48-b170-86e8dfeafa90"
      },
      "source": [
        "arr[1:,2:4]"
      ],
      "execution_count": 20,
      "outputs": [
        {
          "output_type": "execute_result",
          "data": {
            "text/plain": [
              "array([[4, 5],\n",
              "       [6, 8]])"
            ]
          },
          "metadata": {},
          "execution_count": 20
        }
      ]
    },
    {
      "cell_type": "code",
      "metadata": {
        "colab": {
          "base_uri": "https://localhost:8080/"
        },
        "id": "pBr-WilK6cCQ",
        "outputId": "32d899e7-11b9-4f96-9cf1-bde78457fdc9"
      },
      "source": [
        "rearr = arr.reshape(5,3)\n",
        "rearr"
      ],
      "execution_count": 23,
      "outputs": [
        {
          "output_type": "execute_result",
          "data": {
            "text/plain": [
              "array([[1, 2, 3],\n",
              "       [4, 5, 2],\n",
              "       [3, 4, 5],\n",
              "       [6, 9, 7],\n",
              "       [6, 8, 9]])"
            ]
          },
          "metadata": {},
          "execution_count": 23
        }
      ]
    },
    {
      "cell_type": "code",
      "metadata": {
        "colab": {
          "base_uri": "https://localhost:8080/"
        },
        "id": "7lQNanCe6tUt",
        "outputId": "de8f742e-bf41-4f39-ad2c-48b38371b44c"
      },
      "source": [
        "arr = np.arange(0,100)\n",
        "rearr = arr.reshape(10,10)\n",
        "rearr"
      ],
      "execution_count": 27,
      "outputs": [
        {
          "output_type": "execute_result",
          "data": {
            "text/plain": [
              "array([[ 0,  1,  2,  3,  4,  5,  6,  7,  8,  9],\n",
              "       [10, 11, 12, 13, 14, 15, 16, 17, 18, 19],\n",
              "       [20, 21, 22, 23, 24, 25, 26, 27, 28, 29],\n",
              "       [30, 31, 32, 33, 34, 35, 36, 37, 38, 39],\n",
              "       [40, 41, 42, 43, 44, 45, 46, 47, 48, 49],\n",
              "       [50, 51, 52, 53, 54, 55, 56, 57, 58, 59],\n",
              "       [60, 61, 62, 63, 64, 65, 66, 67, 68, 69],\n",
              "       [70, 71, 72, 73, 74, 75, 76, 77, 78, 79],\n",
              "       [80, 81, 82, 83, 84, 85, 86, 87, 88, 89],\n",
              "       [90, 91, 92, 93, 94, 95, 96, 97, 98, 99]])"
            ]
          },
          "metadata": {},
          "execution_count": 27
        }
      ]
    },
    {
      "cell_type": "code",
      "metadata": {
        "colab": {
          "base_uri": "https://localhost:8080/"
        },
        "id": "bQ43rtkP76Xj",
        "outputId": "69df919f-7bd3-4f3f-f2e9-aa65839231af"
      },
      "source": [
        "#understanding step parameter of arange\n",
        "arr = np.arange(10,101,step=10)"
      ],
      "execution_count": 33,
      "outputs": [
        {
          "output_type": "execute_result",
          "data": {
            "text/plain": [
              "array([ 10,  20,  30,  40,  50,  60,  70,  80,  90, 100])"
            ]
          },
          "metadata": {},
          "execution_count": 33
        }
      ]
    },
    {
      "cell_type": "code",
      "metadata": {
        "colab": {
          "base_uri": "https://localhost:8080/"
        },
        "id": "MvljlqeS7HsN",
        "outputId": "b8570c28-5275-469a-98a8-f82a1d22e142"
      },
      "source": [
        "rearr[3:6,:]"
      ],
      "execution_count": 29,
      "outputs": [
        {
          "output_type": "execute_result",
          "data": {
            "text/plain": [
              "array([[30, 31, 32, 33, 34, 35, 36, 37, 38, 39],\n",
              "       [40, 41, 42, 43, 44, 45, 46, 47, 48, 49],\n",
              "       [50, 51, 52, 53, 54, 55, 56, 57, 58, 59]])"
            ]
          },
          "metadata": {},
          "execution_count": 29
        }
      ]
    },
    {
      "cell_type": "code",
      "metadata": {
        "colab": {
          "base_uri": "https://localhost:8080/"
        },
        "id": "NALtFmGK7lUF",
        "outputId": "8ffbf5d2-31a5-441d-a167-60bd1ede9def"
      },
      "source": [
        "#default num value is 50\n",
        "#takes  7 parameters as input \n",
        "#axis may be something related to dimension of the array\n",
        "np.linspace(0,10,num=100,endpoint=False,axis = 0).reshape(4,25)\n"
      ],
      "execution_count": 67,
      "outputs": [
        {
          "output_type": "execute_result",
          "data": {
            "text/plain": [
              "array([[0. , 0.1, 0.2, 0.3, 0.4, 0.5, 0.6, 0.7, 0.8, 0.9, 1. , 1.1, 1.2,\n",
              "        1.3, 1.4, 1.5, 1.6, 1.7, 1.8, 1.9, 2. , 2.1, 2.2, 2.3, 2.4],\n",
              "       [2.5, 2.6, 2.7, 2.8, 2.9, 3. , 3.1, 3.2, 3.3, 3.4, 3.5, 3.6, 3.7,\n",
              "        3.8, 3.9, 4. , 4.1, 4.2, 4.3, 4.4, 4.5, 4.6, 4.7, 4.8, 4.9],\n",
              "       [5. , 5.1, 5.2, 5.3, 5.4, 5.5, 5.6, 5.7, 5.8, 5.9, 6. , 6.1, 6.2,\n",
              "        6.3, 6.4, 6.5, 6.6, 6.7, 6.8, 6.9, 7. , 7.1, 7.2, 7.3, 7.4],\n",
              "       [7.5, 7.6, 7.7, 7.8, 7.9, 8. , 8.1, 8.2, 8.3, 8.4, 8.5, 8.6, 8.7,\n",
              "        8.8, 8.9, 9. , 9.1, 9.2, 9.3, 9.4, 9.5, 9.6, 9.7, 9.8, 9.9]])"
            ]
          },
          "metadata": {},
          "execution_count": 67
        }
      ]
    },
    {
      "cell_type": "code",
      "metadata": {
        "colab": {
          "base_uri": "https://localhost:8080/"
        },
        "id": "IrRS1f9v4R6v",
        "outputId": "12c3be63-6073-4bee-e2ac-57351687ee37"
      },
      "source": [
        "arr = np.arange(1,11)\n",
        "arr"
      ],
      "execution_count": 4,
      "outputs": [
        {
          "output_type": "execute_result",
          "data": {
            "text/plain": [
              "array([ 1,  2,  3,  4,  5,  6,  7,  8,  9, 10])"
            ]
          },
          "metadata": {},
          "execution_count": 4
        }
      ]
    },
    {
      "cell_type": "code",
      "metadata": {
        "colab": {
          "base_uri": "https://localhost:8080/"
        },
        "id": "PUjt77MfBCLk",
        "outputId": "e3604da9-d76e-4181-c32f-365b921f47b8"
      },
      "source": [
        "#copy \n",
        "#what this do is it basically replaces all the values from the given index till last with the provided value\n",
        "arr[2:] =100\n",
        "arr"
      ],
      "execution_count": 6,
      "outputs": [
        {
          "output_type": "execute_result",
          "data": {
            "text/plain": [
              "array([  1,   2, 100, 100, 100, 100, 100, 100, 100, 100])"
            ]
          },
          "metadata": {},
          "execution_count": 6
        }
      ]
    },
    {
      "cell_type": "code",
      "metadata": {
        "colab": {
          "base_uri": "https://localhost:8080/"
        },
        "id": "WGeE2YKcBZpb",
        "outputId": "48678fac-3bb3-433f-96cc-caef8160909e"
      },
      "source": [
        "arr1 = arr #here reference arr got assigned to arr1 and not a copy\n",
        "arr1[2:] = 500\n",
        "arr1,arr\n",
        "#as we can see here because of reference type assignment the previous array value also got changed but lets say we want to prevent it then for that\n",
        "#we have copy()"
      ],
      "execution_count": 9,
      "outputs": [
        {
          "output_type": "execute_result",
          "data": {
            "text/plain": [
              "(array([  1,   2, 500, 500, 500, 500, 500, 500, 500, 500]),\n",
              " array([  1,   2, 500, 500, 500, 500, 500, 500, 500, 500]))"
            ]
          },
          "metadata": {},
          "execution_count": 9
        }
      ]
    },
    {
      "cell_type": "code",
      "metadata": {
        "colab": {
          "base_uri": "https://localhost:8080/"
        },
        "id": "vAU6LxGsDTQo",
        "outputId": "870fd195-abe7-4d43-de45-aff7fc412088"
      },
      "source": [
        "#copy()\n",
        "arr1 = arr.copy() #instead of directly assigning \n",
        "arr1[2:] = 1000\n",
        "arr1,arr\n",
        "#now here we assigned the copy to the arr1 so the previous array values remained as it is"
      ],
      "execution_count": 11,
      "outputs": [
        {
          "output_type": "execute_result",
          "data": {
            "text/plain": [
              "(array([   1,    2, 1000, 1000, 1000, 1000, 1000, 1000, 1000, 1000]),\n",
              " array([  1,   2, 500, 500, 500, 500, 500, 500, 500, 500]))"
            ]
          },
          "metadata": {},
          "execution_count": 11
        }
      ]
    },
    {
      "cell_type": "code",
      "metadata": {
        "colab": {
          "base_uri": "https://localhost:8080/"
        },
        "id": "5OFoU7f9EWMS",
        "outputId": "72d15dc3-d2f3-4e71-ab53-bba4dce6792b"
      },
      "source": [
        "np.ones((3,3),dtype=int)"
      ],
      "execution_count": 19,
      "outputs": [
        {
          "output_type": "execute_result",
          "data": {
            "text/plain": [
              "array([[1, 1, 1],\n",
              "       [1, 1, 1],\n",
              "       [1, 1, 1]])"
            ]
          },
          "metadata": {},
          "execution_count": 19
        }
      ]
    },
    {
      "cell_type": "code",
      "metadata": {
        "colab": {
          "base_uri": "https://localhost:8080/"
        },
        "id": "jMapSabjK7Yk",
        "outputId": "b02fc2d9-d2eb-4ac6-dc72-a958f8151b98"
      },
      "source": [
        "np.random.rand(3,3)"
      ],
      "execution_count": 20,
      "outputs": [
        {
          "output_type": "execute_result",
          "data": {
            "text/plain": [
              "array([[0.69142287, 0.36364357, 0.36423402],\n",
              "       [0.9731049 , 0.99800353, 0.2582793 ],\n",
              "       [0.33640083, 0.91610618, 0.39623019]])"
            ]
          },
          "metadata": {},
          "execution_count": 20
        }
      ]
    },
    {
      "cell_type": "code",
      "metadata": {
        "colab": {
          "base_uri": "https://localhost:8080/"
        },
        "id": "Vc_fnDjGLHgZ",
        "outputId": "0e22d36b-c06c-4532-9725-110fe53f67c3"
      },
      "source": [
        "np.random.randn(3,3)"
      ],
      "execution_count": 21,
      "outputs": [
        {
          "output_type": "execute_result",
          "data": {
            "text/plain": [
              "array([[ 0.07422061,  0.78784287,  0.6334325 ],\n",
              "       [ 1.31490495, -0.98815777,  0.75041514],\n",
              "       [-0.10170204,  1.39244735, -0.01259737]])"
            ]
          },
          "metadata": {},
          "execution_count": 21
        }
      ]
    },
    {
      "cell_type": "code",
      "metadata": {
        "colab": {
          "base_uri": "https://localhost:8080/"
        },
        "id": "mL63BL3nL0oC",
        "outputId": "2f3aeaa5-19c5-45d4-8038-46076eb72cf3"
      },
      "source": [
        "np.random.randint(0,100,8)"
      ],
      "execution_count": 28,
      "outputs": [
        {
          "output_type": "execute_result",
          "data": {
            "text/plain": [
              "array([44, 35, 82, 84, 48, 13, 88, 65])"
            ]
          },
          "metadata": {},
          "execution_count": 28
        }
      ]
    },
    {
      "cell_type": "code",
      "metadata": {
        "colab": {
          "base_uri": "https://localhost:8080/"
        },
        "id": "52NkDqEpMM1E",
        "outputId": "8175f78e-e702-478d-a32d-70fa83da68ef"
      },
      "source": [
        "np.random.random_sample((3))"
      ],
      "execution_count": 31,
      "outputs": [
        {
          "output_type": "execute_result",
          "data": {
            "text/plain": [
              "array([0.92638251, 0.86238795, 0.22353852])"
            ]
          },
          "metadata": {},
          "execution_count": 31
        }
      ]
    }
  ]
}