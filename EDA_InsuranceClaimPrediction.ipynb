{
  "nbformat": 4,
  "nbformat_minor": 0,
  "metadata": {
    "kernelspec": {
      "language": "python",
      "display_name": "Python 3",
      "name": "python3"
    },
    "language_info": {
      "name": "python",
      "version": "3.7.6",
      "mimetype": "text/x-python",
      "codemirror_mode": {
        "name": "ipython",
        "version": 3
      },
      "pygments_lexer": "ipython3",
      "nbconvert_exporter": "python",
      "file_extension": ".py"
    },
    "colab": {
      "name": "EDA_InsuranceClaimPrediction.ipynb",
      "provenance": [],
      "include_colab_link": true
    }
  },
  "cells": [
    {
      "cell_type": "markdown",
      "metadata": {
        "id": "view-in-github",
        "colab_type": "text"
      },
      "source": [
        "<a href=\"https://colab.research.google.com/github/Wishy-S/LearningML/blob/master/EDA_InsuranceClaimPrediction.ipynb\" target=\"_parent\"><img src=\"https://colab.research.google.com/assets/colab-badge.svg\" alt=\"Open In Colab\"/></a>"
      ]
    },
    {
      "cell_type": "code",
      "metadata": {
        "execution": {
          "iopub.status.busy": "2021-10-02T04:56:52.219941Z",
          "iopub.execute_input": "2021-10-02T04:56:52.220600Z",
          "iopub.status.idle": "2021-10-02T04:56:52.227571Z",
          "shell.execute_reply.started": "2021-10-02T04:56:52.220558Z",
          "shell.execute_reply": "2021-10-02T04:56:52.226821Z"
        },
        "trusted": true,
        "id": "Ga5gE1cTbkvA"
      },
      "source": [
        "import pandas as pd\n",
        "import numpy as np\n",
        "import seaborn as sns\n",
        "import matplotlib.pyplot as plt\n",
        "%matplotlib inline"
      ],
      "execution_count": 2,
      "outputs": []
    },
    {
      "cell_type": "code",
      "metadata": {
        "execution": {
          "iopub.status.busy": "2021-10-02T04:56:52.229007Z",
          "iopub.execute_input": "2021-10-02T04:56:52.229481Z",
          "iopub.status.idle": "2021-10-02T04:56:52.255388Z",
          "shell.execute_reply.started": "2021-10-02T04:56:52.229448Z",
          "shell.execute_reply": "2021-10-02T04:56:52.254620Z"
        },
        "trusted": true,
        "id": "-EcWLiJUbkvJ"
      },
      "source": [
        "df=pd.read_csv(\"/content/insurance2.csv\")\n",
        "df1=pd.read_csv(\"/content/insurance3r2.csv\")"
      ],
      "execution_count": 8,
      "outputs": []
    },
    {
      "cell_type": "code",
      "metadata": {
        "execution": {
          "iopub.status.busy": "2021-10-02T04:56:52.256702Z",
          "iopub.execute_input": "2021-10-02T04:56:52.257069Z",
          "iopub.status.idle": "2021-10-02T04:56:52.263682Z",
          "shell.execute_reply.started": "2021-10-02T04:56:52.257037Z",
          "shell.execute_reply": "2021-10-02T04:56:52.262435Z"
        },
        "trusted": true,
        "colab": {
          "base_uri": "https://localhost:8080/"
        },
        "id": "Fu39VM8PbkvL",
        "outputId": "a3b1b315-6057-4a11-9fa1-b78277b351e4"
      },
      "source": [
        "df.shape"
      ],
      "execution_count": 5,
      "outputs": [
        {
          "output_type": "execute_result",
          "data": {
            "text/plain": [
              "(1338, 9)"
            ]
          },
          "metadata": {},
          "execution_count": 5
        }
      ]
    },
    {
      "cell_type": "markdown",
      "metadata": {
        "id": "6GL23EfIbkvM"
      },
      "source": [
        "# **EDA**"
      ]
    },
    {
      "cell_type": "code",
      "metadata": {
        "execution": {
          "iopub.status.busy": "2021-10-02T04:56:52.265883Z",
          "iopub.execute_input": "2021-10-02T04:56:52.266751Z",
          "iopub.status.idle": "2021-10-02T04:56:52.313374Z",
          "shell.execute_reply.started": "2021-10-02T04:56:52.266653Z",
          "shell.execute_reply": "2021-10-02T04:56:52.312347Z"
        },
        "trusted": true,
        "colab": {
          "base_uri": "https://localhost:8080/",
          "height": 300
        },
        "id": "5NSgfGIWbkvP",
        "outputId": "b49c7aef-35f0-46de-e4d9-351f9cf162e6"
      },
      "source": [
        "df.describe()"
      ],
      "execution_count": 6,
      "outputs": [
        {
          "output_type": "execute_result",
          "data": {
            "text/html": [
              "<div>\n",
              "<style scoped>\n",
              "    .dataframe tbody tr th:only-of-type {\n",
              "        vertical-align: middle;\n",
              "    }\n",
              "\n",
              "    .dataframe tbody tr th {\n",
              "        vertical-align: top;\n",
              "    }\n",
              "\n",
              "    .dataframe thead th {\n",
              "        text-align: right;\n",
              "    }\n",
              "</style>\n",
              "<table border=\"1\" class=\"dataframe\">\n",
              "  <thead>\n",
              "    <tr style=\"text-align: right;\">\n",
              "      <th></th>\n",
              "      <th>age</th>\n",
              "      <th>sex</th>\n",
              "      <th>bmi</th>\n",
              "      <th>steps</th>\n",
              "      <th>children</th>\n",
              "      <th>smoker</th>\n",
              "      <th>region</th>\n",
              "      <th>charges</th>\n",
              "      <th>insuranceclaim</th>\n",
              "    </tr>\n",
              "  </thead>\n",
              "  <tbody>\n",
              "    <tr>\n",
              "      <th>count</th>\n",
              "      <td>1338.000000</td>\n",
              "      <td>1338.000000</td>\n",
              "      <td>1338.000000</td>\n",
              "      <td>1338.000000</td>\n",
              "      <td>1338.000000</td>\n",
              "      <td>1338.000000</td>\n",
              "      <td>1338.000000</td>\n",
              "      <td>1338.000000</td>\n",
              "      <td>1338.000000</td>\n",
              "    </tr>\n",
              "    <tr>\n",
              "      <th>mean</th>\n",
              "      <td>39.207025</td>\n",
              "      <td>0.505232</td>\n",
              "      <td>30.663397</td>\n",
              "      <td>5328.623318</td>\n",
              "      <td>1.094918</td>\n",
              "      <td>0.204783</td>\n",
              "      <td>1.515695</td>\n",
              "      <td>13270.422265</td>\n",
              "      <td>0.585202</td>\n",
              "    </tr>\n",
              "    <tr>\n",
              "      <th>std</th>\n",
              "      <td>14.049960</td>\n",
              "      <td>0.500160</td>\n",
              "      <td>6.098187</td>\n",
              "      <td>2453.643236</td>\n",
              "      <td>1.205493</td>\n",
              "      <td>0.403694</td>\n",
              "      <td>1.104885</td>\n",
              "      <td>12110.011237</td>\n",
              "      <td>0.492871</td>\n",
              "    </tr>\n",
              "    <tr>\n",
              "      <th>min</th>\n",
              "      <td>18.000000</td>\n",
              "      <td>0.000000</td>\n",
              "      <td>15.960000</td>\n",
              "      <td>3000.000000</td>\n",
              "      <td>0.000000</td>\n",
              "      <td>0.000000</td>\n",
              "      <td>0.000000</td>\n",
              "      <td>1121.873900</td>\n",
              "      <td>0.000000</td>\n",
              "    </tr>\n",
              "    <tr>\n",
              "      <th>25%</th>\n",
              "      <td>27.000000</td>\n",
              "      <td>0.000000</td>\n",
              "      <td>26.296250</td>\n",
              "      <td>3008.000000</td>\n",
              "      <td>0.000000</td>\n",
              "      <td>0.000000</td>\n",
              "      <td>1.000000</td>\n",
              "      <td>4740.287150</td>\n",
              "      <td>0.000000</td>\n",
              "    </tr>\n",
              "    <tr>\n",
              "      <th>50%</th>\n",
              "      <td>39.000000</td>\n",
              "      <td>1.000000</td>\n",
              "      <td>30.400000</td>\n",
              "      <td>4007.000000</td>\n",
              "      <td>1.000000</td>\n",
              "      <td>0.000000</td>\n",
              "      <td>2.000000</td>\n",
              "      <td>9382.033000</td>\n",
              "      <td>1.000000</td>\n",
              "    </tr>\n",
              "    <tr>\n",
              "      <th>75%</th>\n",
              "      <td>51.000000</td>\n",
              "      <td>1.000000</td>\n",
              "      <td>34.693750</td>\n",
              "      <td>8004.000000</td>\n",
              "      <td>2.000000</td>\n",
              "      <td>0.000000</td>\n",
              "      <td>2.000000</td>\n",
              "      <td>16639.912515</td>\n",
              "      <td>1.000000</td>\n",
              "    </tr>\n",
              "    <tr>\n",
              "      <th>max</th>\n",
              "      <td>64.000000</td>\n",
              "      <td>1.000000</td>\n",
              "      <td>53.130000</td>\n",
              "      <td>10010.000000</td>\n",
              "      <td>5.000000</td>\n",
              "      <td>1.000000</td>\n",
              "      <td>3.000000</td>\n",
              "      <td>63770.428010</td>\n",
              "      <td>1.000000</td>\n",
              "    </tr>\n",
              "  </tbody>\n",
              "</table>\n",
              "</div>"
            ],
            "text/plain": [
              "               age          sex  ...       charges  insuranceclaim\n",
              "count  1338.000000  1338.000000  ...   1338.000000     1338.000000\n",
              "mean     39.207025     0.505232  ...  13270.422265        0.585202\n",
              "std      14.049960     0.500160  ...  12110.011237        0.492871\n",
              "min      18.000000     0.000000  ...   1121.873900        0.000000\n",
              "25%      27.000000     0.000000  ...   4740.287150        0.000000\n",
              "50%      39.000000     1.000000  ...   9382.033000        1.000000\n",
              "75%      51.000000     1.000000  ...  16639.912515        1.000000\n",
              "max      64.000000     1.000000  ...  63770.428010        1.000000\n",
              "\n",
              "[8 rows x 9 columns]"
            ]
          },
          "metadata": {},
          "execution_count": 6
        }
      ]
    },
    {
      "cell_type": "markdown",
      "metadata": {
        "id": "GSNuL-QdbkvQ"
      },
      "source": [
        "###### Checking for missing values"
      ]
    },
    {
      "cell_type": "code",
      "metadata": {
        "execution": {
          "iopub.status.busy": "2021-10-02T04:56:52.316877Z",
          "iopub.execute_input": "2021-10-02T04:56:52.317366Z",
          "iopub.status.idle": "2021-10-02T04:56:52.326672Z",
          "shell.execute_reply.started": "2021-10-02T04:56:52.317314Z",
          "shell.execute_reply": "2021-10-02T04:56:52.325488Z"
        },
        "trusted": true,
        "colab": {
          "base_uri": "https://localhost:8080/"
        },
        "id": "-p9tczmVbkvS",
        "outputId": "c134a89a-28a8-4576-bf6a-e109f62c1735"
      },
      "source": [
        "df.isnull().sum()"
      ],
      "execution_count": 7,
      "outputs": [
        {
          "output_type": "execute_result",
          "data": {
            "text/plain": [
              "age               0\n",
              "sex               0\n",
              "bmi               0\n",
              "steps             0\n",
              "children          0\n",
              "smoker            0\n",
              "region            0\n",
              "charges           0\n",
              "insuranceclaim    0\n",
              "dtype: int64"
            ]
          },
          "metadata": {},
          "execution_count": 7
        }
      ]
    },
    {
      "cell_type": "markdown",
      "metadata": {
        "id": "Ca3pUaEIbkvS"
      },
      "source": [
        "### checking number of unique values, there is any cardinality in categorical features"
      ]
    },
    {
      "cell_type": "code",
      "metadata": {
        "execution": {
          "iopub.status.busy": "2021-10-02T04:56:52.328985Z",
          "iopub.execute_input": "2021-10-02T04:56:52.329642Z",
          "iopub.status.idle": "2021-10-02T04:56:52.342674Z",
          "shell.execute_reply.started": "2021-10-02T04:56:52.329594Z",
          "shell.execute_reply": "2021-10-02T04:56:52.341418Z"
        },
        "trusted": true,
        "colab": {
          "base_uri": "https://localhost:8080/"
        },
        "id": "1JgBGXxdbkvU",
        "outputId": "326911df-025f-4857-cda6-75f38e344287"
      },
      "source": [
        "L=['sex','region','children','smoker']\n",
        "for i in L:\n",
        "    print(\"{} has {} unique values\".format(i,df[i].unique()))"
      ],
      "execution_count": 8,
      "outputs": [
        {
          "output_type": "stream",
          "name": "stdout",
          "text": [
            "sex has [0 1] unique values\n",
            "region has [3 2 1 0] unique values\n",
            "children has [0 1 3 2 5 4] unique values\n",
            "smoker has [1 0] unique values\n"
          ]
        }
      ]
    },
    {
      "cell_type": "markdown",
      "metadata": {
        "id": "MY18tnsVbkvW"
      },
      "source": [
        "##### Since cardinality is fine so checking with data distribution of continous variables"
      ]
    },
    {
      "cell_type": "code",
      "metadata": {
        "execution": {
          "iopub.status.busy": "2021-10-02T04:56:52.344429Z",
          "iopub.execute_input": "2021-10-02T04:56:52.345160Z",
          "iopub.status.idle": "2021-10-02T04:56:52.601342Z",
          "shell.execute_reply.started": "2021-10-02T04:56:52.345112Z",
          "shell.execute_reply": "2021-10-02T04:56:52.599989Z"
        },
        "trusted": true,
        "colab": {
          "base_uri": "https://localhost:8080/",
          "height": 351
        },
        "id": "DC-xIrCabkvX",
        "outputId": "ed671ffd-ebf9-4b64-a42d-d6914c0cba27"
      },
      "source": [
        "sns.distplot(df[\"bmi\"])"
      ],
      "execution_count": 9,
      "outputs": [
        {
          "output_type": "stream",
          "name": "stderr",
          "text": [
            "/usr/local/lib/python3.7/dist-packages/seaborn/distributions.py:2619: FutureWarning: `distplot` is a deprecated function and will be removed in a future version. Please adapt your code to use either `displot` (a figure-level function with similar flexibility) or `histplot` (an axes-level function for histograms).\n",
            "  warnings.warn(msg, FutureWarning)\n"
          ]
        },
        {
          "output_type": "execute_result",
          "data": {
            "text/plain": [
              "<matplotlib.axes._subplots.AxesSubplot at 0x7fdd545fee50>"
            ]
          },
          "metadata": {},
          "execution_count": 9
        },
        {
          "output_type": "display_data",
          "data": {
            "image/png": "[encoded data removed]",
            "text/plain": [
              "<Figure size 432x288 with 1 Axes>"
            ]
          },
          "metadata": {
            "needs_background": "light"
          }
        }
      ]
    },
    {
      "cell_type": "code",
      "metadata": {
        "execution": {
          "iopub.status.busy": "2021-10-02T04:56:52.797073Z",
          "iopub.execute_input": "2021-10-02T04:56:52.797370Z",
          "iopub.status.idle": "2021-10-02T04:56:53.024382Z",
          "shell.execute_reply.started": "2021-10-02T04:56:52.797339Z",
          "shell.execute_reply": "2021-10-02T04:56:53.023514Z"
        },
        "trusted": true,
        "colab": {
          "base_uri": "https://localhost:8080/",
          "height": 362
        },
        "id": "bsslTm8Pbkva",
        "outputId": "561f91f3-9569-4ba9-8ce7-3a4f53ca0b9c"
      },
      "source": [
        "sns.distplot(df[\"charges\"])"
      ],
      "execution_count": 11,
      "outputs": [
        {
          "output_type": "stream",
          "name": "stderr",
          "text": [
            "/usr/local/lib/python3.7/dist-packages/seaborn/distributions.py:2619: FutureWarning: `distplot` is a deprecated function and will be removed in a future version. Please adapt your code to use either `displot` (a figure-level function with similar flexibility) or `histplot` (an axes-level function for histograms).\n",
            "  warnings.warn(msg, FutureWarning)\n"
          ]
        },
        {
          "output_type": "execute_result",
          "data": {
            "text/plain": [
              "<matplotlib.axes._subplots.AxesSubplot at 0x7fdd50c06c90>"
            ]
          },
          "metadata": {},
          "execution_count": 11
        },
        {
          "output_type": "display_data",
          "data": {
            "image/png": "[encoded data removed]",
            "text/plain": [
              "<Figure size 432x288 with 1 Axes>"
            ]
          },
          "metadata": {
            "needs_background": "light"
          }
        }
      ]
    },
    {
      "cell_type": "markdown",
      "metadata": {
        "id": "69pq5pILbkvb"
      },
      "source": [
        "#### Since, charges is right skewed so we will do some normalization technique to make it a gaussian distribution"
      ]
    },
    {
      "cell_type": "code",
      "metadata": {
        "execution": {
          "iopub.status.busy": "2021-10-02T04:56:53.025761Z",
          "iopub.execute_input": "2021-10-02T04:56:53.026078Z",
          "iopub.status.idle": "2021-10-02T04:56:53.197917Z",
          "shell.execute_reply.started": "2021-10-02T04:56:53.026046Z",
          "shell.execute_reply": "2021-10-02T04:56:53.196636Z"
        },
        "trusted": true,
        "colab": {
          "base_uri": "https://localhost:8080/",
          "height": 351
        },
        "id": "r98ne0Kkbkvb",
        "outputId": "904306f6-104a-4c76-b810-2db3e2971955"
      },
      "source": [
        "sns.distplot(df['steps'])"
      ],
      "execution_count": 12,
      "outputs": [
        {
          "output_type": "stream",
          "name": "stderr",
          "text": [
            "/usr/local/lib/python3.7/dist-packages/seaborn/distributions.py:2619: FutureWarning: `distplot` is a deprecated function and will be removed in a future version. Please adapt your code to use either `displot` (a figure-level function with similar flexibility) or `histplot` (an axes-level function for histograms).\n",
            "  warnings.warn(msg, FutureWarning)\n"
          ]
        },
        {
          "output_type": "execute_result",
          "data": {
            "text/plain": [
              "<matplotlib.axes._subplots.AxesSubplot at 0x7fdd50b5a510>"
            ]
          },
          "metadata": {},
          "execution_count": 12
        },
        {
          "output_type": "display_data",
          "data": {
            "image/png": "[encoded data removed]",
            "text/plain": [
              "<Figure size 432x288 with 1 Axes>"
            ]
          },
          "metadata": {
            "needs_background": "light"
          }
        }
      ]
    },
    {
      "cell_type": "markdown",
      "metadata": {
        "id": "tXStojuFi-mN"
      },
      "source": [
        "### **Checking the Correlation of attributes**"
      ]
    },
    {
      "cell_type": "code",
      "metadata": {
        "colab": {
          "base_uri": "https://localhost:8080/",
          "height": 487
        },
        "id": "u6laLHQ6i9aE",
        "outputId": "7c038930-29f5-4bcd-f316-04bb4f2d85f1"
      },
      "source": [
        "#Plotting correlation\n",
        "corrmat=df.corr()\n",
        "top_corr_features=corrmat.index\n",
        "plt.figure(figsize=(14,8))\n",
        "#To plot heatmap\n",
        "import seaborn as sns\n",
        "g=sns.heatmap(df[top_corr_features].corr(),annot=True,cmap=\"RdYlGn\")"
      ],
      "execution_count": 84,
      "outputs": [
        {
          "output_type": "display_data",
          "data": {
            "image/png": "[encoded data removed]",
            "text/plain": [
              "<Figure size 1008x576 with 2 Axes>"
            ]
          },
          "metadata": {
            "needs_background": "light"
          }
        }
      ]
    },
    {
      "cell_type": "markdown",
      "metadata": {
        "id": "QQrC_NEXbkvb"
      },
      "source": [
        "### **Checking if dataset is imbalanced**"
      ]
    },
    {
      "cell_type": "code",
      "metadata": {
        "execution": {
          "iopub.status.busy": "2021-10-02T04:56:53.199627Z",
          "iopub.execute_input": "2021-10-02T04:56:53.200089Z",
          "iopub.status.idle": "2021-10-02T04:56:53.408269Z",
          "shell.execute_reply.started": "2021-10-02T04:56:53.200040Z",
          "shell.execute_reply": "2021-10-02T04:56:53.407232Z"
        },
        "trusted": true,
        "colab": {
          "base_uri": "https://localhost:8080/",
          "height": 296
        },
        "id": "eSma8drVbkvd",
        "outputId": "5bf34932-e4ff-4dfd-99f8-966af9dcb47f"
      },
      "source": [
        "sns.countplot(x='insuranceclaim',data=df)"
      ],
      "execution_count": 13,
      "outputs": [
        {
          "output_type": "execute_result",
          "data": {
            "text/plain": [
              "<matplotlib.axes._subplots.AxesSubplot at 0x7fdd50ae7950>"
            ]
          },
          "metadata": {},
          "execution_count": 13
        },
        {
          "output_type": "display_data",
          "data": {
            "image/png": "[encoded data removed]",
            "text/plain": [
              "<Figure size 432x288 with 1 Axes>"
            ]
          },
          "metadata": {
            "needs_background": "light"
          }
        }
      ]
    },
    {
      "cell_type": "markdown",
      "metadata": {
        "id": "9nFkvuZUbkve"
      },
      "source": [
        "#### Checking for Outliers"
      ]
    },
    {
      "cell_type": "code",
      "metadata": {
        "execution": {
          "iopub.status.busy": "2021-10-02T04:56:53.924314Z",
          "iopub.execute_input": "2021-10-02T04:56:53.924622Z",
          "iopub.status.idle": "2021-10-02T04:56:54.044978Z",
          "shell.execute_reply.started": "2021-10-02T04:56:53.924589Z",
          "shell.execute_reply": "2021-10-02T04:56:54.044092Z"
        },
        "trusted": true,
        "colab": {
          "base_uri": "https://localhost:8080/",
          "height": 269
        },
        "id": "0FMqlNqcbkvf",
        "outputId": "c7f313a5-935a-4526-ad82-b2b835a61134"
      },
      "source": [
        "sns.boxplot(y=df['bmi'])"
      ],
      "execution_count": 15,
      "outputs": [
        {
          "output_type": "execute_result",
          "data": {
            "text/plain": [
              "<matplotlib.axes._subplots.AxesSubplot at 0x7fdd480d2550>"
            ]
          },
          "metadata": {},
          "execution_count": 15
        },
        {
          "output_type": "display_data",
          "data": {
            "image/png": "[encoded data removed]",
            "text/plain": [
              "<Figure size 432x288 with 1 Axes>"
            ]
          },
          "metadata": {
            "needs_background": "light"
          }
        }
      ]
    },
    {
      "cell_type": "code",
      "metadata": {
        "execution": {
          "iopub.status.busy": "2021-10-02T04:56:54.046429Z",
          "iopub.execute_input": "2021-10-02T04:56:54.046750Z",
          "iopub.status.idle": "2021-10-02T04:56:54.161384Z",
          "shell.execute_reply.started": "2021-10-02T04:56:54.046705Z",
          "shell.execute_reply": "2021-10-02T04:56:54.160068Z"
        },
        "trusted": true,
        "colab": {
          "base_uri": "https://localhost:8080/",
          "height": 269
        },
        "id": "6q4PRWf-bkvg",
        "outputId": "e079d12f-9922-4abe-e29f-3da83b8836d4"
      },
      "source": [
        "sns.boxplot(y=df['age'])"
      ],
      "execution_count": 16,
      "outputs": [
        {
          "output_type": "execute_result",
          "data": {
            "text/plain": [
              "<matplotlib.axes._subplots.AxesSubplot at 0x7fdd48067110>"
            ]
          },
          "metadata": {},
          "execution_count": 16
        },
        {
          "output_type": "display_data",
          "data": {
            "image/png": "[encoded data removed]",
            "text/plain": [
              "<Figure size 432x288 with 1 Axes>"
            ]
          },
          "metadata": {
            "needs_background": "light"
          }
        }
      ]
    },
    {
      "cell_type": "code",
      "metadata": {
        "execution": {
          "iopub.status.busy": "2021-10-02T04:56:54.162932Z",
          "iopub.execute_input": "2021-10-02T04:56:54.163266Z",
          "iopub.status.idle": "2021-10-02T04:56:54.285449Z",
          "shell.execute_reply.started": "2021-10-02T04:56:54.163233Z",
          "shell.execute_reply": "2021-10-02T04:56:54.284321Z"
        },
        "trusted": true,
        "colab": {
          "base_uri": "https://localhost:8080/",
          "height": 269
        },
        "id": "EFQzp25Ebkvh",
        "outputId": "9f023be4-cd3d-44ce-ea19-bdaba3bc720c"
      },
      "source": [
        "sns.boxplot(y=df['charges'])"
      ],
      "execution_count": 17,
      "outputs": [
        {
          "output_type": "execute_result",
          "data": {
            "text/plain": [
              "<matplotlib.axes._subplots.AxesSubplot at 0x7fdd47fcca50>"
            ]
          },
          "metadata": {},
          "execution_count": 17
        },
        {
          "output_type": "display_data",
          "data": {
            "image/png": "[encoded data removed]",
            "text/plain": [
              "<Figure size 432x288 with 1 Axes>"
            ]
          },
          "metadata": {
            "needs_background": "light"
          }
        }
      ]
    },
    {
      "cell_type": "markdown",
      "metadata": {
        "id": "Mg2s_tRWbkvh"
      },
      "source": [
        "## Feature Engineering"
      ]
    },
    {
      "cell_type": "code",
      "metadata": {
        "execution": {
          "iopub.status.busy": "2021-10-02T04:56:54.287091Z",
          "iopub.execute_input": "2021-10-02T04:56:54.287501Z",
          "iopub.status.idle": "2021-10-02T04:56:54.293679Z",
          "shell.execute_reply.started": "2021-10-02T04:56:54.287463Z",
          "shell.execute_reply": "2021-10-02T04:56:54.292367Z"
        },
        "trusted": true,
        "id": "yIgkaeqlbkvi"
      },
      "source": [
        "lower_limit=df['bmi'].mean()- 3* df['bmi'].std()\n",
        "upper_limit=df['bmi'].mean()+ 3* df['bmi'].std()"
      ],
      "execution_count": 18,
      "outputs": []
    },
    {
      "cell_type": "code",
      "metadata": {
        "execution": {
          "iopub.status.busy": "2021-10-02T04:56:54.295326Z",
          "iopub.execute_input": "2021-10-02T04:56:54.295799Z",
          "iopub.status.idle": "2021-10-02T04:56:54.310658Z",
          "shell.execute_reply.started": "2021-10-02T04:56:54.295748Z",
          "shell.execute_reply": "2021-10-02T04:56:54.309640Z"
        },
        "trusted": true,
        "colab": {
          "base_uri": "https://localhost:8080/"
        },
        "id": "2fsy980Fbkvi",
        "outputId": "ee266dfd-7907-4891-a34c-1b9e058bb802"
      },
      "source": [
        "print(upper_limit), print(lower_limit)"
      ],
      "execution_count": 19,
      "outputs": [
        {
          "output_type": "stream",
          "name": "stdout",
          "text": [
            "48.95795759602359\n",
            "12.368836125949485\n"
          ]
        },
        {
          "output_type": "execute_result",
          "data": {
            "text/plain": [
              "(None, None)"
            ]
          },
          "metadata": {},
          "execution_count": 19
        }
      ]
    },
    {
      "cell_type": "code",
      "metadata": {
        "execution": {
          "iopub.status.busy": "2021-10-02T04:56:54.312428Z",
          "iopub.execute_input": "2021-10-02T04:56:54.312789Z",
          "iopub.status.idle": "2021-10-02T04:56:54.339953Z",
          "shell.execute_reply.started": "2021-10-02T04:56:54.312705Z",
          "shell.execute_reply": "2021-10-02T04:56:54.338662Z"
        },
        "trusted": true,
        "id": "kvbm_jgjbkvi"
      },
      "source": [
        "df.loc[df['bmi']>=48,'bmi']=48"
      ],
      "execution_count": 20,
      "outputs": []
    },
    {
      "cell_type": "code",
      "metadata": {
        "execution": {
          "iopub.status.busy": "2021-10-02T04:56:54.343077Z",
          "iopub.execute_input": "2021-10-02T04:56:54.343414Z",
          "iopub.status.idle": "2021-10-02T04:56:54.459678Z",
          "shell.execute_reply.started": "2021-10-02T04:56:54.343377Z",
          "shell.execute_reply": "2021-10-02T04:56:54.458935Z"
        },
        "trusted": true,
        "colab": {
          "base_uri": "https://localhost:8080/",
          "height": 269
        },
        "id": "NS-31yWybkvj",
        "outputId": "b913485e-0bb1-4fba-cf1f-54f144c6ddea"
      },
      "source": [
        "sns.boxplot(y=df['bmi'])"
      ],
      "execution_count": 21,
      "outputs": [
        {
          "output_type": "execute_result",
          "data": {
            "text/plain": [
              "<matplotlib.axes._subplots.AxesSubplot at 0x7fdd47fc3f50>"
            ]
          },
          "metadata": {},
          "execution_count": 21
        },
        {
          "output_type": "display_data",
          "data": {
            "image/png": "[encoded data removed]",
            "text/plain": [
              "<Figure size 432x288 with 1 Axes>"
            ]
          },
          "metadata": {
            "needs_background": "light"
          }
        }
      ]
    },
    {
      "cell_type": "markdown",
      "metadata": {
        "id": "Ql93tbbRbkvj"
      },
      "source": [
        "#### Bmi was having a gaussian distribution and was having outliers in order to handle that we replaced the values after the 3rd standard mean with the upper limit as calculated in order to overcome the impcat of outliers"
      ]
    },
    {
      "cell_type": "code",
      "metadata": {
        "execution": {
          "iopub.status.busy": "2021-10-02T04:56:54.461128Z",
          "iopub.execute_input": "2021-10-02T04:56:54.461609Z",
          "iopub.status.idle": "2021-10-02T04:56:54.470355Z",
          "shell.execute_reply.started": "2021-10-02T04:56:54.461576Z",
          "shell.execute_reply": "2021-10-02T04:56:54.469469Z"
        },
        "trusted": true,
        "colab": {
          "base_uri": "https://localhost:8080/"
        },
        "id": "v2aROssobkvk",
        "outputId": "9fae35fa-ea54-462a-c332-606d11e1672d"
      },
      "source": [
        "IQR=df.charges.quantile(0.75)-df.charges.quantile(0.25)\n",
        "IQR"
      ],
      "execution_count": 22,
      "outputs": [
        {
          "output_type": "execute_result",
          "data": {
            "text/plain": [
              "11899.625365"
            ]
          },
          "metadata": {},
          "execution_count": 22
        }
      ]
    },
    {
      "cell_type": "code",
      "metadata": {
        "execution": {
          "iopub.status.busy": "2021-10-02T04:56:54.471971Z",
          "iopub.execute_input": "2021-10-02T04:56:54.472667Z",
          "iopub.status.idle": "2021-10-02T04:56:54.488230Z",
          "shell.execute_reply.started": "2021-10-02T04:56:54.472619Z",
          "shell.execute_reply": "2021-10-02T04:56:54.487206Z"
        },
        "trusted": true,
        "colab": {
          "base_uri": "https://localhost:8080/"
        },
        "id": "SEJ9vpd2bkvl",
        "outputId": "728a2800-f61f-409f-a19d-78f98cf960a8"
      },
      "source": [
        "df['charges'].describe()"
      ],
      "execution_count": 23,
      "outputs": [
        {
          "output_type": "execute_result",
          "data": {
            "text/plain": [
              "count     1338.000000\n",
              "mean     13270.422265\n",
              "std      12110.011237\n",
              "min       1121.873900\n",
              "25%       4740.287150\n",
              "50%       9382.033000\n",
              "75%      16639.912515\n",
              "max      63770.428010\n",
              "Name: charges, dtype: float64"
            ]
          },
          "metadata": {},
          "execution_count": 23
        }
      ]
    },
    {
      "cell_type": "code",
      "metadata": {
        "execution": {
          "iopub.status.busy": "2021-10-02T04:56:54.490065Z",
          "iopub.execute_input": "2021-10-02T04:56:54.490771Z",
          "iopub.status.idle": "2021-10-02T04:56:54.502336Z",
          "shell.execute_reply.started": "2021-10-02T04:56:54.490700Z",
          "shell.execute_reply": "2021-10-02T04:56:54.500863Z"
        },
        "trusted": true,
        "colab": {
          "base_uri": "https://localhost:8080/"
        },
        "id": "9Rd-xeXLbkvl",
        "outputId": "62facd20-83cd-4cbf-8d9b-0a6642c7bebe"
      },
      "source": [
        "lower_limit=df['charges'].quantile(0.25)-(IQR*3)\n",
        "upper_limit=df['charges'].quantile(0.75)+(IQR*3)\n",
        "print(lower_limit), print(upper_limit)"
      ],
      "execution_count": 24,
      "outputs": [
        {
          "output_type": "stream",
          "name": "stdout",
          "text": [
            "-30958.588945\n",
            "52338.78861\n"
          ]
        },
        {
          "output_type": "execute_result",
          "data": {
            "text/plain": [
              "(None, None)"
            ]
          },
          "metadata": {},
          "execution_count": 24
        }
      ]
    },
    {
      "cell_type": "code",
      "metadata": {
        "execution": {
          "iopub.status.busy": "2021-10-02T04:56:54.503786Z",
          "iopub.execute_input": "2021-10-02T04:56:54.504100Z",
          "iopub.status.idle": "2021-10-02T04:56:54.510751Z",
          "shell.execute_reply.started": "2021-10-02T04:56:54.504070Z",
          "shell.execute_reply": "2021-10-02T04:56:54.509968Z"
        },
        "trusted": true,
        "id": "6Wnz6X_gbkvm"
      },
      "source": [
        "df.loc[df['charges']>=52338,'charges']=52338"
      ],
      "execution_count": 25,
      "outputs": []
    },
    {
      "cell_type": "code",
      "metadata": {
        "execution": {
          "iopub.status.busy": "2021-10-02T04:56:54.512429Z",
          "iopub.execute_input": "2021-10-02T04:56:54.512895Z",
          "iopub.status.idle": "2021-10-02T04:56:54.724683Z",
          "shell.execute_reply.started": "2021-10-02T04:56:54.512848Z",
          "shell.execute_reply": "2021-10-02T04:56:54.723679Z"
        },
        "trusted": true,
        "colab": {
          "base_uri": "https://localhost:8080/",
          "height": 362
        },
        "id": "xnPNo49Abkvn",
        "outputId": "b5d0867b-0d84-44d3-92ee-77748f87986b"
      },
      "source": [
        "sns.distplot(df['charges'])"
      ],
      "execution_count": 26,
      "outputs": [
        {
          "output_type": "stream",
          "name": "stderr",
          "text": [
            "/usr/local/lib/python3.7/dist-packages/seaborn/distributions.py:2619: FutureWarning: `distplot` is a deprecated function and will be removed in a future version. Please adapt your code to use either `displot` (a figure-level function with similar flexibility) or `histplot` (an axes-level function for histograms).\n",
            "  warnings.warn(msg, FutureWarning)\n"
          ]
        },
        {
          "output_type": "execute_result",
          "data": {
            "text/plain": [
              "<matplotlib.axes._subplots.AxesSubplot at 0x7fdd47f3b250>"
            ]
          },
          "metadata": {},
          "execution_count": 26
        },
        {
          "output_type": "display_data",
          "data": {
            "image/png": "[encoded data removed]",
            "text/plain": [
              "<Figure size 432x288 with 1 Axes>"
            ]
          },
          "metadata": {
            "needs_background": "light"
          }
        }
      ]
    },
    {
      "cell_type": "markdown",
      "metadata": {
        "id": "vmOObB2vbkvn"
      },
      "source": [
        "#### 'Charges' was having a skewed00000 distribution and was having outliers in order to handle that we replaced the values after 523338 with the upper limit as calculated in order to overcome the impact of outliers."
      ]
    },
    {
      "cell_type": "markdown",
      "metadata": {
        "id": "rDHTdAICbkvo"
      },
      "source": [
        "# Model Built"
      ]
    },
    {
      "cell_type": "code",
      "metadata": {
        "execution": {
          "iopub.status.busy": "2021-10-02T05:01:29.257544Z",
          "iopub.execute_input": "2021-10-02T05:01:29.257956Z",
          "iopub.status.idle": "2021-10-02T05:01:29.292000Z",
          "shell.execute_reply.started": "2021-10-02T05:01:29.257904Z",
          "shell.execute_reply": "2021-10-02T05:01:29.291139Z"
        },
        "trusted": true,
        "id": "9dr13F7pbkvo"
      },
      "source": [
        "from sklearn.model_selection import train_test_split\n",
        "from sklearn.linear_model import LogisticRegression\n",
        "from sklearn.metrics import accuracy_score,roc_auc_score\n",
        "from sklearn.metrics import confusion_matrix\n",
        "from sklearn.metrics import classification_report\n",
        "\n",
        "from sklearn.tree import DecisionTreeClassifier\n",
        "from sklearn.naive_bayes import GaussianNB\n",
        "from sklearn.neighbors import KNeighborsClassifier\n",
        "from sklearn.svm import SVC\n",
        "\n",
        "from sklearn.ensemble import RandomForestClassifier\n"
      ],
      "execution_count": 4,
      "outputs": []
    },
    {
      "cell_type": "markdown",
      "metadata": {
        "id": "S3jYI6XCbkvp"
      },
      "source": [
        "## **Using Logistic Regression**"
      ]
    },
    {
      "cell_type": "code",
      "metadata": {
        "id": "Jriyf2Lbh2l1"
      },
      "source": [
        "N = df.shape[1];\n",
        "X_train,x_test,Y_train,y_test=train_test_split(df.iloc[:, :N-1],df.iloc[:,-1],test_size=0.20)"
      ],
      "execution_count": 28,
      "outputs": []
    },
    {
      "cell_type": "code",
      "metadata": {
        "execution": {
          "iopub.status.busy": "2021-10-02T04:56:54.960169Z",
          "iopub.execute_input": "2021-10-02T04:56:54.960502Z",
          "iopub.status.idle": "2021-10-02T04:56:55.035417Z",
          "shell.execute_reply.started": "2021-10-02T04:56:54.960471Z",
          "shell.execute_reply": "2021-10-02T04:56:55.034518Z"
        },
        "trusted": true,
        "colab": {
          "base_uri": "https://localhost:8080/"
        },
        "id": "4WSDJl22bkvq",
        "outputId": "571f0e6c-f431-4a6a-b91f-0688e9ccf470"
      },
      "source": [
        "classifier=LogisticRegression()\n",
        "classifier.fit(X_train,Y_train)\n",
        "y_pred=classifier.predict(x_test)\n",
        "\n",
        "\n",
        "accuracy = accuracy_score(y_test,y_pred)\n",
        "classreport = classification_report(y_test,y_pred)\n",
        "confusnMatrix = confusion_matrix(y_test,y_pred)\n",
        "print('The accuracy: {}'.format(accuracy))\n",
        "print('The Classification Report:\\n {}'.format(classreport))\n",
        "print('The Confusion Matrix:\\n {}'.format(confusnMatrix))"
      ],
      "execution_count": 29,
      "outputs": [
        {
          "output_type": "stream",
          "name": "stdout",
          "text": [
            "The accuracy: 0.746268656716418\n",
            "The Classification Report:\n",
            "               precision    recall  f1-score   support\n",
            "\n",
            "           0       0.78      0.57      0.66       115\n",
            "           1       0.73      0.88      0.80       153\n",
            "\n",
            "    accuracy                           0.75       268\n",
            "   macro avg       0.75      0.72      0.73       268\n",
            "weighted avg       0.75      0.75      0.74       268\n",
            "\n",
            "The Confusion Matrix:\n",
            " [[ 66  49]\n",
            " [ 19 134]]\n"
          ]
        }
      ]
    },
    {
      "cell_type": "markdown",
      "metadata": {
        "id": "oHcUaZI1bkvq"
      },
      "source": [
        "## **Using Random Forest Classifier**"
      ]
    },
    {
      "cell_type": "code",
      "metadata": {
        "id": "5NZEvEjopArD"
      },
      "source": [
        "dff = df.copy()\n",
        "dff = dff.drop(\"region\",axis=1)\n",
        "dff.head()\n",
        "cl = dff.shape[1]\n",
        "X_train,x_test,Y_train,y_test=train_test_split(df.iloc[:, :cl-1],df.iloc[:,-1],test_size=0.25)"
      ],
      "execution_count": 30,
      "outputs": []
    },
    {
      "cell_type": "code",
      "metadata": {
        "execution": {
          "iopub.status.busy": "2021-10-02T05:02:08.609008Z",
          "iopub.execute_input": "2021-10-02T05:02:08.609396Z",
          "iopub.status.idle": "2021-10-02T05:02:08.930846Z",
          "shell.execute_reply.started": "2021-10-02T05:02:08.609364Z",
          "shell.execute_reply": "2021-10-02T05:02:08.929243Z"
        },
        "trusted": true,
        "colab": {
          "base_uri": "https://localhost:8080/"
        },
        "id": "fKZT6DVUbkvr",
        "outputId": "242fe3f9-7523-4403-c8a3-f2ccf86bf41f"
      },
      "source": [
        "from sklearn.metrics import classification_report\n",
        "from sklearn import metrics\n",
        "\n",
        "random_clf = RandomForestClassifier(n_estimators=50, min_samples_split=5, min_samples_leaf=5, max_features='sqrt', max_depth=25, criterion='entropy')\n",
        "random_clf.fit(X_train,Y_train)\n",
        "random_clf_predict = random_clf.predict(x_test)\n",
        "\n",
        "random_clf_report = classification_report(y_test,random_clf_predict)\n",
        "print(random_clf_report)\n",
        "print(\"Accuracy:\",metrics.accuracy_score(y_test, random_clf_predict))\n",
        "confusnMatrix = confusion_matrix(y_test,random_clf_predict)\n",
        "print(confusnMatrix)"
      ],
      "execution_count": 33,
      "outputs": [
        {
          "output_type": "stream",
          "name": "stdout",
          "text": [
            "              precision    recall  f1-score   support\n",
            "\n",
            "           0       0.96      0.97      0.96       133\n",
            "           1       0.98      0.97      0.98       202\n",
            "\n",
            "    accuracy                           0.97       335\n",
            "   macro avg       0.97      0.97      0.97       335\n",
            "weighted avg       0.97      0.97      0.97       335\n",
            "\n",
            "Accuracy: 0.9701492537313433\n",
            "[[129   4]\n",
            " [  6 196]]\n"
          ]
        }
      ]
    },
    {
      "cell_type": "code",
      "metadata": {
        "colab": {
          "base_uri": "https://localhost:8080/",
          "height": 638
        },
        "id": "D5MK1YNINtsJ",
        "outputId": "d1d99671-9d9d-48f7-f6e7-b770e2eb39fb"
      },
      "source": [
        "from sklearn.metrics import roc_curve, roc_auc_score,auc\n",
        "false_positive_rate, true_positive_rate, thresholds = roc_curve(y_test,random_clf_predict)\n",
        "import matplotlib.pyplot as plt\n",
        "plt.figure(figsize=(10,10))\n",
        "plt.title('Receiver Operating Characteristic')\n",
        "roc_auc = auc(false_positive_rate, true_positive_rate)\n",
        "plt.plot(false_positive_rate,true_positive_rate, color='red',label = 'AUC = %0.2f' % roc_auc)\n",
        "plt.legend(loc = 'lower right')\n",
        "plt.plot([0, 1], [0, 1],linestyle='--')\n",
        "plt.axis('tight')\n",
        "plt.ylabel('True Positive Rate')\n",
        "plt.xlabel('False Positive Rate')"
      ],
      "execution_count": 42,
      "outputs": [
        {
          "output_type": "execute_result",
          "data": {
            "text/plain": [
              "Text(0.5, 0, 'False Positive Rate')"
            ]
          },
          "metadata": {},
          "execution_count": 42
        },
        {
          "output_type": "display_data",
          "data": {
            "image/png": "[encoded data removed]",
            "text/plain": [
              "<Figure size 720x720 with 1 Axes>"
            ]
          },
          "metadata": {
            "needs_background": "light"
          }
        }
      ]
    },
    {
      "cell_type": "markdown",
      "metadata": {
        "id": "ANvLU9Ntey43"
      },
      "source": [
        "## **Using Support Vector Machine Classifier**"
      ]
    },
    {
      "cell_type": "code",
      "metadata": {
        "colab": {
          "base_uri": "https://localhost:8080/",
          "height": 206
        },
        "id": "iQx_N6U8kts9",
        "outputId": "bc1b060a-660c-4b6c-ac47-2f44c379c7b6"
      },
      "source": [
        "dff = df.copy()\n",
        "dff.head()"
      ],
      "execution_count": 177,
      "outputs": [
        {
          "output_type": "execute_result",
          "data": {
            "text/html": [
              "<div>\n",
              "<style scoped>\n",
              "    .dataframe tbody tr th:only-of-type {\n",
              "        vertical-align: middle;\n",
              "    }\n",
              "\n",
              "    .dataframe tbody tr th {\n",
              "        vertical-align: top;\n",
              "    }\n",
              "\n",
              "    .dataframe thead th {\n",
              "        text-align: right;\n",
              "    }\n",
              "</style>\n",
              "<table border=\"1\" class=\"dataframe\">\n",
              "  <thead>\n",
              "    <tr style=\"text-align: right;\">\n",
              "      <th></th>\n",
              "      <th>age</th>\n",
              "      <th>sex</th>\n",
              "      <th>bmi</th>\n",
              "      <th>children</th>\n",
              "      <th>smoker</th>\n",
              "      <th>region</th>\n",
              "      <th>charges</th>\n",
              "      <th>insuranceclaim</th>\n",
              "    </tr>\n",
              "  </thead>\n",
              "  <tbody>\n",
              "    <tr>\n",
              "      <th>0</th>\n",
              "      <td>19</td>\n",
              "      <td>0</td>\n",
              "      <td>27.900</td>\n",
              "      <td>0</td>\n",
              "      <td>1</td>\n",
              "      <td>3</td>\n",
              "      <td>16884.92400</td>\n",
              "      <td>1</td>\n",
              "    </tr>\n",
              "    <tr>\n",
              "      <th>1</th>\n",
              "      <td>18</td>\n",
              "      <td>1</td>\n",
              "      <td>33.770</td>\n",
              "      <td>1</td>\n",
              "      <td>0</td>\n",
              "      <td>2</td>\n",
              "      <td>1725.55230</td>\n",
              "      <td>1</td>\n",
              "    </tr>\n",
              "    <tr>\n",
              "      <th>2</th>\n",
              "      <td>28</td>\n",
              "      <td>1</td>\n",
              "      <td>33.000</td>\n",
              "      <td>3</td>\n",
              "      <td>0</td>\n",
              "      <td>2</td>\n",
              "      <td>4449.46200</td>\n",
              "      <td>0</td>\n",
              "    </tr>\n",
              "    <tr>\n",
              "      <th>3</th>\n",
              "      <td>33</td>\n",
              "      <td>1</td>\n",
              "      <td>22.705</td>\n",
              "      <td>0</td>\n",
              "      <td>0</td>\n",
              "      <td>1</td>\n",
              "      <td>21984.47061</td>\n",
              "      <td>0</td>\n",
              "    </tr>\n",
              "    <tr>\n",
              "      <th>4</th>\n",
              "      <td>32</td>\n",
              "      <td>1</td>\n",
              "      <td>28.880</td>\n",
              "      <td>0</td>\n",
              "      <td>0</td>\n",
              "      <td>1</td>\n",
              "      <td>3866.85520</td>\n",
              "      <td>1</td>\n",
              "    </tr>\n",
              "  </tbody>\n",
              "</table>\n",
              "</div>"
            ],
            "text/plain": [
              "   age  sex     bmi  children  smoker  region      charges  insuranceclaim\n",
              "0   19    0  27.900         0       1       3  16884.92400               1\n",
              "1   18    1  33.770         1       0       2   1725.55230               1\n",
              "2   28    1  33.000         3       0       2   4449.46200               0\n",
              "3   33    1  22.705         0       0       1  21984.47061               0\n",
              "4   32    1  28.880         0       0       1   3866.85520               1"
            ]
          },
          "metadata": {},
          "execution_count": 177
        }
      ]
    },
    {
      "cell_type": "code",
      "metadata": {
        "id": "KNWxcX7Lhwdx"
      },
      "source": [
        "cl = df2.shape[1]\n",
        "X_train,x_test,Y_train,y_test=train_test_split(df2.iloc[:, :cl-1],df2.iloc[:,-1],test_size=0.20)"
      ],
      "execution_count": 268,
      "outputs": []
    },
    {
      "cell_type": "markdown",
      "metadata": {
        "id": "jekR3rv6PWww"
      },
      "source": [
        "svm_clf = SVC(kernel=\"poly\",degree=2)\n",
        "svm_clf.fit(X_train,Y_train)\n",
        "y_predict_svm = svm_clf.predict(x_test)\n",
        "svm_clf_report = classification_report(y_test,y_predict_svm)\n",
        "print(\"Accuracy:\",metrics.accuracy_score(y_test,y_predict_svm))\n",
        "print(svm_clf_report)"
      ]
    },
    {
      "cell_type": "code",
      "metadata": {
        "colab": {
          "base_uri": "https://localhost:8080/",
          "height": 206
        },
        "id": "pPZSX_PWTmNo",
        "outputId": "050fd1d3-ebec-42e1-be27-84b5f8324f1e"
      },
      "source": [
        "df2 = df1.copy()\n",
        "df2.head()"
      ],
      "execution_count": 389,
      "outputs": [
        {
          "output_type": "execute_result",
          "data": {
            "text/html": [
              "<div>\n",
              "<style scoped>\n",
              "    .dataframe tbody tr th:only-of-type {\n",
              "        vertical-align: middle;\n",
              "    }\n",
              "\n",
              "    .dataframe tbody tr th {\n",
              "        vertical-align: top;\n",
              "    }\n",
              "\n",
              "    .dataframe thead th {\n",
              "        text-align: right;\n",
              "    }\n",
              "</style>\n",
              "<table border=\"1\" class=\"dataframe\">\n",
              "  <thead>\n",
              "    <tr style=\"text-align: right;\">\n",
              "      <th></th>\n",
              "      <th>age</th>\n",
              "      <th>sex</th>\n",
              "      <th>bmi</th>\n",
              "      <th>steps</th>\n",
              "      <th>children</th>\n",
              "      <th>smoker</th>\n",
              "      <th>region</th>\n",
              "      <th>charges</th>\n",
              "      <th>insuranceclaim</th>\n",
              "    </tr>\n",
              "  </thead>\n",
              "  <tbody>\n",
              "    <tr>\n",
              "      <th>0</th>\n",
              "      <td>19</td>\n",
              "      <td>0</td>\n",
              "      <td>27.900</td>\n",
              "      <td>3009</td>\n",
              "      <td>0</td>\n",
              "      <td>1</td>\n",
              "      <td>3</td>\n",
              "      <td>16884.92400</td>\n",
              "      <td>1</td>\n",
              "    </tr>\n",
              "    <tr>\n",
              "      <th>1</th>\n",
              "      <td>18</td>\n",
              "      <td>1</td>\n",
              "      <td>33.770</td>\n",
              "      <td>3008</td>\n",
              "      <td>1</td>\n",
              "      <td>0</td>\n",
              "      <td>2</td>\n",
              "      <td>1725.55230</td>\n",
              "      <td>1</td>\n",
              "    </tr>\n",
              "    <tr>\n",
              "      <th>2</th>\n",
              "      <td>28</td>\n",
              "      <td>1</td>\n",
              "      <td>33.000</td>\n",
              "      <td>3009</td>\n",
              "      <td>3</td>\n",
              "      <td>0</td>\n",
              "      <td>2</td>\n",
              "      <td>4449.46200</td>\n",
              "      <td>0</td>\n",
              "    </tr>\n",
              "    <tr>\n",
              "      <th>3</th>\n",
              "      <td>33</td>\n",
              "      <td>1</td>\n",
              "      <td>22.705</td>\n",
              "      <td>10009</td>\n",
              "      <td>0</td>\n",
              "      <td>0</td>\n",
              "      <td>1</td>\n",
              "      <td>21984.47061</td>\n",
              "      <td>0</td>\n",
              "    </tr>\n",
              "    <tr>\n",
              "      <th>4</th>\n",
              "      <td>32</td>\n",
              "      <td>1</td>\n",
              "      <td>28.880</td>\n",
              "      <td>8010</td>\n",
              "      <td>0</td>\n",
              "      <td>0</td>\n",
              "      <td>1</td>\n",
              "      <td>3866.85520</td>\n",
              "      <td>1</td>\n",
              "    </tr>\n",
              "  </tbody>\n",
              "</table>\n",
              "</div>"
            ],
            "text/plain": [
              "   age  sex     bmi  steps  ...  smoker  region      charges  insuranceclaim\n",
              "0   19    0  27.900   3009  ...       1       3  16884.92400               1\n",
              "1   18    1  33.770   3008  ...       0       2   1725.55230               1\n",
              "2   28    1  33.000   3009  ...       0       2   4449.46200               0\n",
              "3   33    1  22.705  10009  ...       0       1  21984.47061               0\n",
              "4   32    1  28.880   8010  ...       0       1   3866.85520               1\n",
              "\n",
              "[5 rows x 9 columns]"
            ]
          },
          "metadata": {},
          "execution_count": 389
        }
      ]
    },
    {
      "cell_type": "code",
      "metadata": {
        "colab": {
          "base_uri": "https://localhost:8080/"
        },
        "id": "NbDPdRFdagxg",
        "outputId": "b6e51d21-dc54-4d56-e508-3302617e4e64"
      },
      "source": [
        "print(df2.loc[df2['insuranceclaim']==1].count())\n",
        "print(df2.loc[df2['insuranceclaim']==0].count())\n",
        "783-555"
      ],
      "execution_count": 364,
      "outputs": [
        {
          "output_type": "stream",
          "name": "stdout",
          "text": [
            "age               783\n",
            "sex               783\n",
            "bmi               783\n",
            "steps             783\n",
            "children          783\n",
            "smoker            783\n",
            "region            783\n",
            "charges           783\n",
            "insuranceclaim    783\n",
            "dtype: int64\n",
            "age               555\n",
            "sex               555\n",
            "bmi               555\n",
            "steps             555\n",
            "children          555\n",
            "smoker            555\n",
            "region            555\n",
            "charges           555\n",
            "insuranceclaim    555\n",
            "dtype: int64\n"
          ]
        },
        {
          "output_type": "execute_result",
          "data": {
            "text/plain": [
              "228"
            ]
          },
          "metadata": {},
          "execution_count": 364
        }
      ]
    },
    {
      "cell_type": "code",
      "metadata": {
        "colab": {
          "base_uri": "https://localhost:8080/"
        },
        "id": "Za8BeaYDq1IB",
        "outputId": "697cd132-3e01-4e6b-a759-b209618ad42c"
      },
      "source": [
        "svm_clf = SVC(kernel=\"linear\")\n",
        "svm_clf.fit(X_train,Y_train)\n",
        "y_predict_svm = svm_clf.predict(x_test)\n",
        "svm_clf_report = classification_report(y_test,y_predict_svm)\n",
        "print(\"Accuracy:\",metrics.accuracy_score(y_test,y_predict_svm))\n",
        "print(svm_clf_report)"
      ],
      "execution_count": 52,
      "outputs": [
        {
          "output_type": "stream",
          "name": "stdout",
          "text": [
            "Accuracy: 0.9044776119402985\n",
            "              precision    recall  f1-score   support\n",
            "\n",
            "           0       0.89      0.87      0.88       133\n",
            "           1       0.92      0.93      0.92       202\n",
            "\n",
            "    accuracy                           0.90       335\n",
            "   macro avg       0.90      0.90      0.90       335\n",
            "weighted avg       0.90      0.90      0.90       335\n",
            "\n"
          ]
        }
      ]
    },
    {
      "cell_type": "code",
      "metadata": {
        "colab": {
          "base_uri": "https://localhost:8080/",
          "height": 236
        },
        "id": "8l-j77WSaNNR",
        "outputId": "930c0c00-ddc1-4f3b-dd19-09e8ed772c4f"
      },
      "source": [
        "x_test=pd.DataFrame\n",
        "y_test=pd.DataFrame\n",
        "k = 228\n",
        "N = df2.shape[1];\n",
        "for index, d in df2.iterrows():\n",
        "  if d['insuranceclaim'] == 1:\n",
        "    x_test.append(df2.iloc[])\n",
        "    y_test.append(1)\n",
        "    df2.drop(index,inplace=True)\n",
        "    k-=1\n",
        "\n",
        "  #print(i)\n",
        "  if k==0:\n",
        "    break"
      ],
      "execution_count": 395,
      "outputs": [
        {
          "output_type": "error",
          "ename": "TypeError",
          "evalue": "ignored",
          "traceback": [
            "\u001b[0;31m---------------------------------------------------------------------------\u001b[0m",
            "\u001b[0;31mTypeError\u001b[0m                                 Traceback (most recent call last)",
            "\u001b[0;32m<ipython-input-395-3bf23c2ac8bc>\u001b[0m in \u001b[0;36m<module>\u001b[0;34m()\u001b[0m\n\u001b[1;32m      5\u001b[0m \u001b[0;32mfor\u001b[0m \u001b[0mindex\u001b[0m\u001b[0;34m,\u001b[0m \u001b[0md\u001b[0m \u001b[0;32min\u001b[0m \u001b[0mdf2\u001b[0m\u001b[0;34m.\u001b[0m\u001b[0miterrows\u001b[0m\u001b[0;34m(\u001b[0m\u001b[0;34m)\u001b[0m\u001b[0;34m:\u001b[0m\u001b[0;34m\u001b[0m\u001b[0;34m\u001b[0m\u001b[0m\n\u001b[1;32m      6\u001b[0m   \u001b[0;32mif\u001b[0m \u001b[0md\u001b[0m\u001b[0;34m[\u001b[0m\u001b[0;34m'insuranceclaim'\u001b[0m\u001b[0;34m]\u001b[0m \u001b[0;34m==\u001b[0m \u001b[0;36m1\u001b[0m\u001b[0;34m:\u001b[0m\u001b[0;34m\u001b[0m\u001b[0;34m\u001b[0m\u001b[0m\n\u001b[0;32m----> 7\u001b[0;31m     \u001b[0mx_test\u001b[0m\u001b[0;34m.\u001b[0m\u001b[0mappend\u001b[0m\u001b[0;34m(\u001b[0m\u001b[0mdf2\u001b[0m\u001b[0;34m.\u001b[0m\u001b[0miloc\u001b[0m\u001b[0;34m[\u001b[0m\u001b[0mindex\u001b[0m\u001b[0;34m]\u001b[0m\u001b[0;34m)\u001b[0m\u001b[0;34m\u001b[0m\u001b[0;34m\u001b[0m\u001b[0m\n\u001b[0m\u001b[1;32m      8\u001b[0m     \u001b[0my_test\u001b[0m\u001b[0;34m.\u001b[0m\u001b[0mappend\u001b[0m\u001b[0;34m(\u001b[0m\u001b[0;36m1\u001b[0m\u001b[0;34m)\u001b[0m\u001b[0;34m\u001b[0m\u001b[0;34m\u001b[0m\u001b[0m\n\u001b[1;32m      9\u001b[0m     \u001b[0mdf2\u001b[0m\u001b[0;34m.\u001b[0m\u001b[0mdrop\u001b[0m\u001b[0;34m(\u001b[0m\u001b[0mindex\u001b[0m\u001b[0;34m,\u001b[0m\u001b[0minplace\u001b[0m\u001b[0;34m=\u001b[0m\u001b[0;32mTrue\u001b[0m\u001b[0;34m)\u001b[0m\u001b[0;34m\u001b[0m\u001b[0;34m\u001b[0m\u001b[0m\n",
            "\u001b[0;31mTypeError\u001b[0m: append() missing 1 required positional argument: 'other'"
          ]
        }
      ]
    },
    {
      "cell_type": "code",
      "metadata": {
        "id": "Lcjna1xJkWaH"
      },
      "source": [
        ""
      ],
      "execution_count": null,
      "outputs": []
    }
  ]
}